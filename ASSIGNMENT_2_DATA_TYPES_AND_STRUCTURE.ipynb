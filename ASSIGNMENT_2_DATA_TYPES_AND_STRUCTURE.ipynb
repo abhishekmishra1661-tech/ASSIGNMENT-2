{
  "nbformat": 4,
  "nbformat_minor": 0,
  "metadata": {
    "colab": {
      "provenance": []
    },
    "kernelspec": {
      "name": "python3",
      "display_name": "Python 3"
    },
    "language_info": {
      "name": "python"
    }
  },
  "cells": [
    {
      "cell_type": "markdown",
      "source": [
        "# ASSIGNMENT 2: DATA TYPES AND STRUCTURE\n",
        "\n"
      ],
      "metadata": {
        "id": "K5C0OqKf7joB"
      }
    },
    {
      "cell_type": "markdown",
      "source": [
        "Q1.What are data structures, and why are they important?\n",
        "  - Data structures are organized ways to store, manage, and retrieve data efficiently in a computer.\n",
        "Importance of Data Structure :\n",
        "Efficient Data Management :Help organize large amounts of data so it's easy to access and modify.\n",
        "Faster Searching & Sorting: Certain data structures allow faster operations.\n",
        "Memory Optimization: Help reduce memory usage by using optimal storage formats.\n",
        "Foundation for Algorithms: Most algorithms rely on data structures to work correctly and efficiently.\n",
        "Real-world Problem Solving: Useful in tasks like file systems, databases, social networks, etc.\n",
        "Helps in Decision Making: Choosing the right data structure can improve performance drastically.\n",
        "Examples: List,tuple,sets\n"
      ],
      "metadata": {
        "id": "j46JvCj372jW"
      }
    },
    {
      "cell_type": "markdown",
      "source": [
        "Q2.Explain the difference between mutable and immutable data types with examples?\n",
        "  - Mutable.\n",
        "Objects that can be changed after they are created.\n",
        "No new memory location is created\n",
        "Example :list, dict, set\n",
        "\n",
        "# Example of Mutable\n",
        "my_list = [1, 2, 3]|\n",
        "my_list[0] = 10\n",
        "print(my_list)\n",
        "\n",
        "Immutable:\n",
        "Objects that cannot be changed after they are created.\n",
        "creation or new memory location at any changes\n",
        "Examples: int, float, str, tuple\n",
        "# Example ot immutable\n",
        "t = (1, 2, 3)\n",
        "# t[0] = 10 #This will raise a TypeError\n"
      ],
      "metadata": {
        "id": "ywTrP4FH9N4z"
      }
    },
    {
      "cell_type": "markdown",
      "source": [
        "Q3.What are the main differences between lists and tuples in Python?\n",
        "  - 1.Mutability:Lists are mutable whereas tuples are immutable.\n",
        "This means you can change, add, or remove elements in a list, but you cannot modify a tuple after it's created.\n",
        "  - 2.Syntax: Lists use square brackets [|, whereas tuples use parentheses ().\n",
        "This means you define a list like (1, 2, 3) and a tuple like (1, 2, 3)\n",
        "  - 3.Methods Available: Lists have many built-in methods, whereas *tuples *have very few.\n",
        "This means you can modify a list using methods like appendO, pop0, or sort), but tuples only support countO and index()\n",
        "  - 4.Performance: *Tuples* are faster in performance than** lists**\n",
        "  - 5.Memory Usage: Tuples use less memory than lists.\n",
        "  - 6.Case: Lists are used when data can change, whereas tuples are used for fixed data.\n",
        "This means use lists for dynamic operations, and tuples when you want to protect data from modification.\n"
      ],
      "metadata": {
        "id": "pRZDLdeDC0YG"
      }
    },
    {
      "cell_type": "markdown",
      "source": [
        "Q4.Describe how dictionaries store data?\n",
        "   - A dictionary in Python is a collection of key-value pairs, where each key is unique and is used to access its corresponding value.\n",
        "Dictionaries store data:\n",
        "A dictionary stores data as key-value pairs.\n",
        "The key is used to identify the data.\n",
        "The value is the data associated with that key.\n",
        "It allows for quick access, update, and deletion of data using keys.\n"
      ],
      "metadata": {
        "id": "57SYsTLrEpYW"
      }
    },
    {
      "cell_type": "markdown",
      "source": [
        "Q5.Why might you use a set instead of a list in Python?\n",
        "   - Reasons to use set instead of list:\n",
        "   - 1.No duplicate elements : A set automatically removes duplicates, while a list can store them.\n",
        "   - 2.Faster lookups : Checking if an element exists in a set (in operation) is generally O(1), compared to O(n) for\n",
        "   - 3.-Unordered collection : If you don't care about the order of elements, sets are more efficient.\n",
        "   - 4.Mathematical operations : Sets support union, intersection, and difference operations directly.\n",
        "   - 5.Better for uniqueness checks : When you need only unique items, sets avoid manual duplicate removal.\n"
      ],
      "metadata": {
        "id": "E_-OMH1LFDir"
      }
    },
    {
      "cell_type": "markdown",
      "source": [
        "Q6.What is a string in Python, and how is it different from a list?\n",
        "   - String: A string is a sequence of characters. Python treats anything inside quotes as a string. This includes letters, numbers, and symbols. Python has no character data type so single character is a string of length 1\n",
        "   - string different fromm list:\n",
        "   - 1.Data Type : A string stores only characters, while a list can store elements of any data type (numbers, strings, objects,\n",
        "   - 2.Mutability : Strings are immutable, whereas lists are mutable.\n",
        "   - 3.Element Type : Strings can contain only characters, but lists can have mixed data types.\n",
        "   - 4.Modification : You cannot directly change a character in a string, but you can change, add, or remove elements in a list.\n",
        "   - 5.Operations : Strings have text-specific methods (upper), replace(, split)), while lists have collection-specific methods (append), remove), sort0).\n",
        "   - 6.Representation : Strings are written inside quotes (: \"), while lists are written inside square brackets [].\n",
        "   - 7.Usage : Strings are used for text data, while lists are used for storing a sequence of items.\n"
      ],
      "metadata": {
        "id": "xQDC9NPaF97J"
      }
    },
    {
      "cell_type": "markdown",
      "source": [
        "Q7.How do tuples ensure data integrity in Python?\n",
        "  - Tuples ensure data integrity in Python mainly because they are immutable.\n",
        "Other reasons tuples ensure data integrity:\n",
        "  - 1.Prevents accidental changes : Since tuples can't be modified, your data stays exactly as it was when created.\n",
        "  - 2.Reliable as constants : Tuples can store fixed data (like configuration values) that must remain the same throughout the program.\n",
        "  - 3.Safe for keys in dictionaries : Their immutability allows them to be used as dictionary keys or stored in sets without risk of being altered.\n",
        "  - 4.Predictable behavior : No unexpected changes in tuple data make debugging and tracking logic easier.\n",
        "  - 5.Thread-safety : In multi-threaded programs, immutable data structures like tuples reduce the chance of data corruption from concurrent modifications.\n"
      ],
      "metadata": {
        "id": "jLDIgAiMHjrr"
      }
    },
    {
      "cell_type": "markdown",
      "source": [
        "Q8.What is a hash table, and how does it relate to dictionaries in Python?\n",
        "  - A hash table is a data structure that stores key-value pairs and uses a hash function to map each key to a specific index (bucket) in memory.\n",
        "  - Relation of Hashtable to dictionaries :\n",
        "  - 1.In Pyton, a dictionary (dict) Is Implemented using a nash table.\n",
        "  - 2.Keys in a dictionary are hashed internally, and their hash values decide where the corresponding values are stored in memory\n",
        "  - 3.Only immutable and hashable objects can be used as dictionary keys.\n",
        "  - 4.Hash tables let dictionaries perform very fast lookups, even with large amounts of data.\n",
        "  - my_dict = (\"name\": \"abhishek\", \"age\": 28}\n",
        "# \"name\" is hashed internally → value 28 stored at a memory bucket print (my_dict[\"name\"]) # Output: Alice\n",
        "\n"
      ],
      "metadata": {
        "id": "zCR1vlBsIwf9"
      }
    },
    {
      "cell_type": "markdown",
      "source": [
        "Q9.Can lists contain different data types in Python?\n",
        "  - Yes, lists in Python can contain different data types in the same list.\n",
        "  - A list can hold integers, floats, strings, booleans, objects, even other lists - all mixed together.\n",
        "  - This is possible because Python lists are dynamic and store references to objects, not fixed-type elements.\n",
        "  \n",
        "  #my_list = [10, \"Hello\", 3.14, True, [1, 2, 3J]\n",
        "print(my_list)\n"
      ],
      "metadata": {
        "id": "z9D67ZokLkDi"
      }
    },
    {
      "cell_type": "markdown",
      "source": [
        "Q10.Explain why strings are immutable in Python?\n",
        "   - Reasons String are immutable:\n",
        "   - 1.Memory efficiency: Immutability allows Python to reuse identical string objects (string interning), saving memory.\n",
        "   - 2.Hash consistency : Strings must stay unchanged so their hash value remains constant when used as dictionary or set keys.\n",
        "   - 3.Thread-safety: Because strings can't be modified, they can be shared between threads without risk of corruption.\n",
        "   - 4.Predictable behavior : Fixed, unchangeable strings prevent accidental changes, making code more reliable.\n",
        "   - 5.Performance optimization: Immutable strings can be stored and accessed in a way that speeds up certain operations.\n",
        "   \n"
      ],
      "metadata": {
        "id": "KROo1ySQMg_g"
      }
    },
    {
      "cell_type": "markdown",
      "source": [
        "Q11. What advantages do dictionaries offer over lists for certain tasks?\n",
        "  - Advantages do dictionaries offer over lists for certain tasks are:\n",
        "  - 1.Faster lookups: Dictionaries provide average O(1) time complexity for accessing values by key, while lists take O(n) for\n",
        "searches.\n",
        "  - 2.Key-based access : You can access data using meaningful keys instead of relying on numeric indexes.\n",
        "  - 3.No need for manual searching : Values are retrieved directly by key without iterating through the entire collection.\n",
        "  - 4.Unordered but organized: Data is stored in a way that's easy to manage when you care about associations rather than\n",
        "order.\n",
        "  - 5.Flexible keys and values : Keys can be any immutable type (string, number, tuple), and values can be any data type.\n",
        "  - 6.Clear mapping of data : Perfect for storing real-world data with a clear \"label → value\" relationship.\n",
        "  \n"
      ],
      "metadata": {
        "id": "1HxSmc08dbAO"
      }
    },
    {
      "cell_type": "code",
      "source": [
        "# List of [name, phone] pairs\n",
        "contacts_list = [[\"Alice\", \"1234\"], [\"Bob\", \"5678\"], [\"Charlie\", \"9101\"]]\n",
        "\n",
        "# Find Bob's number\n",
        "for name, phone in contacts_list:\n",
        "  if name == \"Bob\":\n",
        "print (phone) # Output: 5678\n",
        "break\n",
        "\n",
        "# Dictionary of name: phone pairs\n",
        "contacts_dict = (\"Alice\": \"1234\", \"Bob\": \"5678\", \"Charlie\": \"9101\"}\n",
        "\n",
        " # Find Bob's number\n",
        "print(contacts_dict[\"Bob\"]) # Output: 5678"
      ],
      "metadata": {
        "id": "qN3Ze_TEfu-U"
      },
      "execution_count": null,
      "outputs": []
    },
    {
      "cell_type": "markdown",
      "source": [
        "Difference: Time Complexity of Dictionary is O(1) where as list is O(n).\n"
      ],
      "metadata": {
        "id": "OprwpaAAhIjy"
      }
    },
    {
      "cell_type": "markdown",
      "source": [
        "Q12.Describe a scenario where using a tuple would be preferable over a list?\n",
        "  - scenario.\n",
        "  \n",
        "- storing fixed GPS coordinates of a city in a program.\n",
        "- Example\n",
        "\n"
      ],
      "metadata": {
        "id": "9IXdmEaqhVg2"
      }
    },
    {
      "cell_type": "code",
      "source": [
        "# Latitude and Longitude of New York\n",
        "new_york_coordinates = (40.7128, -74.0060)"
      ],
      "metadata": {
        "id": "LGFFFDOwh7fc"
      },
      "execution_count": null,
      "outputs": []
    },
    {
      "cell_type": "markdown",
      "source": [
        "- Why tuple is preferable:\n",
        "- 1. The coordinates should never change during the program's execution → tuples are immutable, ensuring data integrity.\n",
        "- 2. Tuples can be used as dictionary keys if you need to store location-based data (lists cannot be keys).\n",
        "- 3. Slightly faster than lists for access, making them efficient for fixed datasets."
      ],
      "metadata": {
        "id": "dTlUoleiiEoQ"
      }
    },
    {
      "cell_type": "markdown",
      "source": [
        "Q13.How do sets handle duplicate values in Python?\n",
        "  - Sets automatically remove duplicate values because they only store unique elements.\n",
        " - when you try to add a duplicate to a set, Python ignores it silently.\n",
        " - This is possible because sets use a hash table internally, where each element's hash value must be unique.\n",
        "\n",
        "  - my_set = {1, 2, 2, 3, 3, 3}\n",
        "print (my_set)\n"
      ],
      "metadata": {
        "id": "J1T_2JNziiFC"
      }
    },
    {
      "cell_type": "markdown",
      "source": [
        "Q14.How does the “in” keyword work differently for lists and dictionaries?\n",
        "  - The in keyword behaves differently for lists and dictionaries in Python:\n",
        "\n",
        "- 1.For lists \"in\" checks if a value exists anywhere in the list.\n",
        "\n",
        "\n"
      ],
      "metadata": {
        "id": "YqIdkK9rjRr-"
      }
    },
    {
      "cell_type": "code",
      "source": [
        "# numbers = [1, 2, 3, 4]\n",
        "print(3 in numbers)\n",
        "print(5 in numbers)\n",
        "#(checks values)"
      ],
      "metadata": {
        "id": "UJeCAbUJk-gi"
      },
      "execution_count": null,
      "outputs": []
    },
    {
      "cell_type": "markdown",
      "source": [
        "- 2.For dictionaries - in checks if a key exists in the dictionary (not the value).\n"
      ],
      "metadata": {
        "id": "eRgTGob9lAhu"
      }
    },
    {
      "cell_type": "code",
      "source": [
        "# person = {\"name\": \"Alice\", \"age\": 25}|\n",
        "print(\"name\" in person)\n",
        "# checks keys\n",
        "print(\"Alice\" in person) # does not check values"
      ],
      "metadata": {
        "id": "zCd8deFblJut"
      },
      "execution_count": null,
      "outputs": []
    },
    {
      "cell_type": "markdown",
      "source": [
        "Q15.Can you modify the elements of a tuple? Explain why or why not?\n",
        "  - No we cannot modify the elements of a tuple in Python.\n",
        "  - Reason\n",
        "  - 1. Tuples are immutable, meaning once they are created, their elements cannot be changed, added, or removed.\n",
        "\n",
        "- 2. This immutability ensures data integrity, allows tuples to be used as dictionary keys or stored in sets, and makes them more memory-efficient and thread-safe.\n",
        "\n",
        " t = (1, 2, 3)\n",
        "t[0] = 10 # TypeError: 'tuple' object does not support item assignment\n"
      ],
      "metadata": {
        "id": "ly01Grm8lSFm"
      }
    },
    {
      "cell_type": "markdown",
      "source": [
        "Q16.What is a nested dictionary, and give an example of its use case?\n",
        "  - Nested Dictionary:\n",
        "\n",
        "\n",
        " - 1.A nested dictionary is a dictionary that contains another dictionary as one or more of its values.\n",
        "\n",
        " - 2.It's used to store hierarchical or structured data in a compact, organized way.\n",
        "\n"
      ],
      "metadata": {
        "id": "ynNQyRyxmMaX"
      }
    },
    {
      "cell_type": "code",
      "source": [
        "# Example ot usecase\n",
        "Students =1\n",
        "\"Alice\": {\"age\": 20, \"marks\": {\"Math\": 90, \"Science\": 85}},\n",
        "\"Bob\": {\"age\": 22, \"marks\": {\"Math\": 78, \"Science\": 88}}\n",
        "}\n",
        "\n",
        "# Access Bob's Science marks\n",
        "print(students |\"Bob\"] [\"marks\"][\"Science\"])"
      ],
      "metadata": {
        "id": "WTrbn_SDm1WO"
      },
      "execution_count": null,
      "outputs": []
    },
    {
      "cell_type": "markdown",
      "source": [
        "Q17.Describe the time complexity of accessing elements in a dictionary?\n",
        "  - Accessing elements in a dictionary in Python has:\n",
        "\n",
        "\n",
        " - 1. Average case: 0(1) Constant time, because dictionaries use a hash table for key lookups.\n",
        "\n",
        " - 2. Worst case: O(n) : Happens rarely, only when many keys have the same hash value (hash collision) and Python has to search through them linearly.\n",
        "\n",
        "\n",
        "person = (\"name\": \"Alice\", \"age\": 25}\n",
        "\n",
        "print(person[\"age\"]) # O(1) average time\n"
      ],
      "metadata": {
        "id": "Y7xu3fStnPOn"
      }
    },
    {
      "cell_type": "markdown",
      "source": [
        "Q18.In what situations are lists preferred over dictionaries?\n",
        "  - Situations where lists are preferred over dictionaries:\n",
        "\n",
        "\n",
        " - 1. Order matters: When you need to preserve and work with the sequence of elements.\n",
        "\n",
        " - 2. No key-value mapping needed : When you only care about storing values, not associating them with unique keys.\n",
        " - 3. Allow duplicates: When you need to store the same value multiple times.\n",
        " - 4. Index-based access : When elements are best accessed by their position (index) rather than by a key.\n",
        " - 5. Small datasets: For small collections where the speed benefit of a dictionary is negligible.\n",
        " - 6. Iteration over values: When you want to loop through elements directly without worrying about keys.\n",
        "\n",
        " fruits = [\"apple\" , \"banana\", \"orange\", \"banana\"]\n",
        "\n",
        "print(fruits[1])\n"
      ],
      "metadata": {
        "id": "nzp6BdjZoRyf"
      }
    },
    {
      "cell_type": "markdown",
      "source": [
        "Q19.Why are dictionaries considered unordered, and how does that affect data retrieval?\n",
        "  - Dictionaries are considered unordered:\n",
        "\n",
        "\n",
        " - 1. Before Python 3.7, dictionaries did not guarantee that elements would be stored or iterated in the order they were inserted\n",
        " - 2.This is because dictionaries are implemented using a hash table, where the storage location of each key-value pair depends on the key's hash value, not its position.\n",
        "\n",
        "  - Effect of data retrieval\n",
        "\n",
        "\n",
        "  - 1.Key-based retrieval is unaffected we can always access a value directly using its key in O(1) time, regardless of order.\n",
        "  \n",
        "\n",
        " - 2. However, iteration order was unpredictable in older versions of Python, meaning looping over a dictionary could produce elements in any sequence.\n",
        "\n",
        "\n",
        " - 3. From Python 3.7+, insertion order is preserved as an implementation detail but retrieval by key is still independent of oder"
      ],
      "metadata": {
        "id": "ISaPxWISptkn"
      }
    },
    {
      "cell_type": "markdown",
      "source": [
        "Q20.Explain the difference between a list and a dictionary in terms of data retrieval?\n",
        " - Diterence Detween a list and a dictionary in terms or data retrieval.\n",
        "\n",
        " - 1. List : Retrieval is index-based\n",
        "We access elements using their position (0, 1, 2,...).\n",
        "Time complexity: O(1) for direct index access, but On) if you search for a value.\n",
        "\n",
        "- fruits = [\"apple\", \"banana\", \"cherry\"]\n",
        "\n",
        "print(fruits[1])\n",
        "\n",
        "- 2. Dictionary : Retrieval is key-based\n",
        "We access values using unique keys, not positions.\n",
        "Time complexity: O(1) on average because of hashing.\n",
        "\n",
        "- person = {\"name\": \"Alice\", \"age\": 25}\n",
        "\n",
        "print (person[\"age\"])\n"
      ],
      "metadata": {
        "id": "tfJHuQeNrBt0"
      }
    },
    {
      "cell_type": "markdown",
      "source": [
        "#PRACTICAL ANSWERS\n"
      ],
      "metadata": {
        "id": "-rnWdrCosKqN"
      }
    },
    {
      "cell_type": "code",
      "source": [
        "# Write a code to create a string with your name and print it?\n"
      ],
      "metadata": {
        "id": "FNIPaFeQsRqp"
      },
      "execution_count": null,
      "outputs": []
    },
    {
      "cell_type": "code",
      "metadata": {
        "colab": {
          "base_uri": "https://localhost:8080/"
        },
        "id": "b790e894",
        "outputId": "592b59ed-bdf8-427c-9aa9-cf9153383477"
      },
      "source": [
        "my_name = \"Your Name\" # Replace \"Your Name\" with your actual name\n",
        "print(my_name)"
      ],
      "execution_count": null,
      "outputs": [
        {
          "output_type": "stream",
          "name": "stdout",
          "text": [
            "Your Name\n"
          ]
        }
      ]
    },
    {
      "cell_type": "code",
      "source": [
        "#  Write a code to find the length of the string \"Hello World\"\n"
      ],
      "metadata": {
        "id": "0FB7UIBqsk26"
      },
      "execution_count": null,
      "outputs": []
    },
    {
      "cell_type": "code",
      "metadata": {
        "colab": {
          "base_uri": "https://localhost:8080/"
        },
        "id": "26c5bddd",
        "outputId": "0446db17-6ee0-4764-e1a4-cfe1b402770d"
      },
      "source": [
        "my_string = \"Hello World\"\n",
        "string_length = len(my_string)\n",
        "print(f\"The length of the string is: {string_length}\")"
      ],
      "execution_count": null,
      "outputs": [
        {
          "output_type": "stream",
          "name": "stdout",
          "text": [
            "The length of the string is: 11\n"
          ]
        }
      ]
    },
    {
      "cell_type": "code",
      "source": [
        "# 3.Write a code to slice the first 3 characters from the string \"Python Programming\"?\n"
      ],
      "metadata": {
        "id": "dGyB6uXmsyNh"
      },
      "execution_count": null,
      "outputs": []
    },
    {
      "cell_type": "code",
      "metadata": {
        "colab": {
          "base_uri": "https://localhost:8080/"
        },
        "id": "66b1197f",
        "outputId": "264124dc-01b7-4fa5-8891-2e0c220a9dde"
      },
      "source": [
        "my_string = \"Python Programming\"\n",
        "sliced_string = my_string[:3]\n",
        "print(f\"The first 3 characters are: {sliced_string}\")"
      ],
      "execution_count": null,
      "outputs": [
        {
          "output_type": "stream",
          "name": "stdout",
          "text": [
            "The first 3 characters are: Pyt\n"
          ]
        }
      ]
    },
    {
      "cell_type": "code",
      "source": [
        "# 4. Write a code to convert the string \"hello\" to uppercase?\n"
      ],
      "metadata": {
        "id": "evDrJLz8tEgj"
      },
      "execution_count": null,
      "outputs": []
    },
    {
      "cell_type": "code",
      "metadata": {
        "colab": {
          "base_uri": "https://localhost:8080/"
        },
        "id": "6fbe30ae",
        "outputId": "b819c5d0-727e-4254-aa89-11e711943a78"
      },
      "source": [
        "my_string = \"hello\"\n",
        "uppercase_string = my_string.upper()\n",
        "print(f\"The uppercase string is: {uppercase_string}\")"
      ],
      "execution_count": null,
      "outputs": [
        {
          "output_type": "stream",
          "name": "stdout",
          "text": [
            "The uppercase string is: HELLO\n"
          ]
        }
      ]
    },
    {
      "cell_type": "code",
      "source": [
        "# 5.Write a code to replace the word \"apple\" with \"orange\" in the string \"I like apple\"?\n"
      ],
      "metadata": {
        "id": "V2J7sO-7tTs3"
      },
      "execution_count": null,
      "outputs": []
    },
    {
      "cell_type": "code",
      "metadata": {
        "colab": {
          "base_uri": "https://localhost:8080/"
        },
        "id": "3fa79ad6",
        "outputId": "8e473679-ae72-4bd3-9fda-24ca3bc9a44d"
      },
      "source": [
        "my_string = \"I like apple\"\n",
        "new_string = my_string.replace(\"apple\", \"orange\")\n",
        "print(new_string)"
      ],
      "execution_count": null,
      "outputs": [
        {
          "output_type": "stream",
          "name": "stdout",
          "text": [
            "I like orange\n"
          ]
        }
      ]
    },
    {
      "cell_type": "code",
      "source": [
        "# 6. Write a code to create a list with numbers 1 to 5 and print it\n"
      ],
      "metadata": {
        "id": "vto1H0LutzO-"
      },
      "execution_count": null,
      "outputs": []
    },
    {
      "cell_type": "code",
      "metadata": {
        "colab": {
          "base_uri": "https://localhost:8080/"
        },
        "id": "543e1961",
        "outputId": "b5591f36-510a-4022-8323-bcb0b5e58359"
      },
      "source": [
        "my_list = [1, 2, 3, 4, 5]\n",
        "print(my_list)"
      ],
      "execution_count": null,
      "outputs": [
        {
          "output_type": "stream",
          "name": "stdout",
          "text": [
            "[1, 2, 3, 4, 5]\n"
          ]
        }
      ]
    },
    {
      "cell_type": "code",
      "source": [
        "# 7. Write a code to append the number 10 to the list [1, 2, 3, 4]?\n"
      ],
      "metadata": {
        "id": "bB7mNOQAt9mO"
      },
      "execution_count": null,
      "outputs": []
    },
    {
      "cell_type": "code",
      "metadata": {
        "colab": {
          "base_uri": "https://localhost:8080/"
        },
        "id": "53457460",
        "outputId": "7a0da9b8-43d9-430f-8033-fa47ec82c0fe"
      },
      "source": [
        "my_list = [1, 2, 3, 4]\n",
        "my_list.append(10)\n",
        "print(my_list)"
      ],
      "execution_count": null,
      "outputs": [
        {
          "output_type": "stream",
          "name": "stdout",
          "text": [
            "[1, 2, 3, 4, 10]\n"
          ]
        }
      ]
    },
    {
      "cell_type": "code",
      "source": [
        "# 8. Write a code to remove the number 3 from the list [1, 2, 3, 4, 5]?"
      ],
      "metadata": {
        "id": "enl24D1quHE8"
      },
      "execution_count": null,
      "outputs": []
    },
    {
      "cell_type": "code",
      "metadata": {
        "colab": {
          "base_uri": "https://localhost:8080/"
        },
        "id": "6413b942",
        "outputId": "aa97313e-21d6-4437-9b87-5379e2da9871"
      },
      "source": [
        "my_list = [1, 2, 3, 4, 5]\n",
        "my_list.remove(3)\n",
        "print(my_list)"
      ],
      "execution_count": null,
      "outputs": [
        {
          "output_type": "stream",
          "name": "stdout",
          "text": [
            "[1, 2, 4, 5]\n"
          ]
        }
      ]
    },
    {
      "cell_type": "code",
      "source": [
        "# 9. Write a code to access the second element in the list ['a', 'b', 'c', 'd']?\n"
      ],
      "metadata": {
        "id": "JXDTZ9WbuWgG"
      },
      "execution_count": null,
      "outputs": []
    },
    {
      "cell_type": "code",
      "metadata": {
        "colab": {
          "base_uri": "https://localhost:8080/"
        },
        "id": "d8253e93",
        "outputId": "3d683913-c8ea-458e-98ee-6fa24716c653"
      },
      "source": [
        "my_list = ['a', 'b', 'c', 'd']\n",
        "second_element = my_list[1]\n",
        "print(f\"The second element is: {second_element}\")"
      ],
      "execution_count": null,
      "outputs": [
        {
          "output_type": "stream",
          "name": "stdout",
          "text": [
            "The second element is: b\n"
          ]
        }
      ]
    },
    {
      "cell_type": "code",
      "source": [
        "# 10.Write a code to reverse the list [10, 20, 30, 40, 50]?"
      ],
      "metadata": {
        "id": "28gkKhEyuiWF"
      },
      "execution_count": null,
      "outputs": []
    },
    {
      "cell_type": "code",
      "metadata": {
        "colab": {
          "base_uri": "https://localhost:8080/"
        },
        "id": "4d88482d",
        "outputId": "b3fd3609-127e-4854-f40d-8fe26854d915"
      },
      "source": [
        "my_list = [10, 20, 30, 40, 50]\n",
        "my_list.reverse()\n",
        "print(my_list)"
      ],
      "execution_count": null,
      "outputs": [
        {
          "output_type": "stream",
          "name": "stdout",
          "text": [
            "[50, 40, 30, 20, 10]\n"
          ]
        }
      ]
    },
    {
      "cell_type": "code",
      "source": [
        "# 11.Write a code to create a tuple with the elements 100, 200, 300 and print it."
      ],
      "metadata": {
        "id": "Iqw8PsSAusUD"
      },
      "execution_count": null,
      "outputs": []
    },
    {
      "cell_type": "code",
      "metadata": {
        "colab": {
          "base_uri": "https://localhost:8080/"
        },
        "id": "c0b1b87b",
        "outputId": "370c9756-5bab-43a9-8bc2-c038122afc45"
      },
      "source": [
        "my_tuple = (100, 200, 300)\n",
        "print(my_tuple)"
      ],
      "execution_count": null,
      "outputs": [
        {
          "output_type": "stream",
          "name": "stdout",
          "text": [
            "(100, 200, 300)\n"
          ]
        }
      ]
    },
    {
      "cell_type": "code",
      "source": [
        "# 12. 12. Write a code to access the second-to-last element of the tuple ('red', 'green', 'blue', 'yellow')."
      ],
      "metadata": {
        "id": "rfcTKl40u3jC"
      },
      "execution_count": null,
      "outputs": []
    },
    {
      "cell_type": "code",
      "metadata": {
        "colab": {
          "base_uri": "https://localhost:8080/"
        },
        "id": "2cf36944",
        "outputId": "5aa92f41-4856-4018-9740-890c25a27d01"
      },
      "source": [
        "my_tuple = ('red', 'green', 'blue', 'yellow')\n",
        "second_to_last_element = my_tuple[-2]\n",
        "print(f\"The second-to-last element is: {second_to_last_element}\")"
      ],
      "execution_count": null,
      "outputs": [
        {
          "output_type": "stream",
          "name": "stdout",
          "text": [
            "The second-to-last element is: blue\n"
          ]
        }
      ]
    },
    {
      "cell_type": "code",
      "source": [
        "# 13. Write a code to find the minimum number in the tuple (10, 20, 5, 15)."
      ],
      "metadata": {
        "id": "wonSZpDUvBIN"
      },
      "execution_count": null,
      "outputs": []
    },
    {
      "cell_type": "code",
      "metadata": {
        "colab": {
          "base_uri": "https://localhost:8080/"
        },
        "id": "b0dd025e",
        "outputId": "c28c6a6f-246d-4103-fe21-c72c56e3d349"
      },
      "source": [
        "my_tuple = (10, 20, 5, 15)\n",
        "minimum_number = min(my_tuple)\n",
        "print(f\"The minimum number is: {minimum_number}\")"
      ],
      "execution_count": null,
      "outputs": [
        {
          "output_type": "stream",
          "name": "stdout",
          "text": [
            "The minimum number is: 5\n"
          ]
        }
      ]
    },
    {
      "cell_type": "code",
      "source": [
        "# 14. 14. Write a code to find the index of the element \"cat\" in the tuple ('dog', 'cat', 'rabbit')."
      ],
      "metadata": {
        "id": "YTzaFrkfvKFf"
      },
      "execution_count": null,
      "outputs": []
    },
    {
      "cell_type": "code",
      "metadata": {
        "colab": {
          "base_uri": "https://localhost:8080/"
        },
        "id": "d7d750a3",
        "outputId": "22b564f5-905e-4d35-99c5-3ebfdc0eb3eb"
      },
      "source": [
        "my_tuple = ('dog', 'cat', 'rabbit')\n",
        "index_of_cat = my_tuple.index(\"cat\")\n",
        "print(f\"The index of 'cat' is: {index_of_cat}\")"
      ],
      "execution_count": null,
      "outputs": [
        {
          "output_type": "stream",
          "name": "stdout",
          "text": [
            "The index of 'cat' is: 1\n"
          ]
        }
      ]
    },
    {
      "cell_type": "code",
      "source": [
        "# 15. 15. Write a code to create a tuple containing three different fruits and check if \"kiwi\" is in it."
      ],
      "metadata": {
        "id": "zuW9c8SyvSNQ"
      },
      "execution_count": null,
      "outputs": []
    },
    {
      "cell_type": "code",
      "metadata": {
        "colab": {
          "base_uri": "https://localhost:8080/"
        },
        "id": "11fc5292",
        "outputId": "2e2bf3db-fe59-45e0-e492-d37a8fbd1d88"
      },
      "source": [
        "fruits_tuple = (\"apple\", \"banana\", \"cherry\")\n",
        "if \"kiwi\" in fruits_tuple:\n",
        "    print(\"Kiwi is in the tuple.\")\n",
        "else:\n",
        "    print(\"Kiwi is not in the tuple.\")"
      ],
      "execution_count": null,
      "outputs": [
        {
          "output_type": "stream",
          "name": "stdout",
          "text": [
            "Kiwi is not in the tuple.\n"
          ]
        }
      ]
    },
    {
      "cell_type": "code",
      "source": [
        "# 16. Write a code to create a set with the elements 'a', 'b', 'c' and print it."
      ],
      "metadata": {
        "id": "97myESd1vZ1e"
      },
      "execution_count": null,
      "outputs": []
    },
    {
      "cell_type": "code",
      "metadata": {
        "colab": {
          "base_uri": "https://localhost:8080/"
        },
        "id": "37442054",
        "outputId": "bb41e7d5-1b6b-4c57-ab7d-20baa795e39b"
      },
      "source": [
        "my_set = {'a', 'b', 'c'}\n",
        "print(my_set)"
      ],
      "execution_count": null,
      "outputs": [
        {
          "output_type": "stream",
          "name": "stdout",
          "text": [
            "{'b', 'c', 'a'}\n"
          ]
        }
      ]
    },
    {
      "cell_type": "code",
      "source": [
        "# 17. Write a code to clear all elements from the set {1, 2, 3, 4, 5}."
      ],
      "metadata": {
        "id": "e8ALHoulvgQ6"
      },
      "execution_count": null,
      "outputs": []
    },
    {
      "cell_type": "code",
      "metadata": {
        "colab": {
          "base_uri": "https://localhost:8080/"
        },
        "id": "8f3a49dd",
        "outputId": "9934edd6-8430-4c22-f73e-bb632407fa01"
      },
      "source": [
        "my_set = {1, 2, 3, 4, 5}\n",
        "my_set.clear()\n",
        "print(my_set)"
      ],
      "execution_count": null,
      "outputs": [
        {
          "output_type": "stream",
          "name": "stdout",
          "text": [
            "set()\n"
          ]
        }
      ]
    },
    {
      "cell_type": "code",
      "source": [
        "# 18. Write a code to remove the element 4 from the set {1, 2, 3, 4}."
      ],
      "metadata": {
        "id": "a9tvHbLQvorG"
      },
      "execution_count": null,
      "outputs": []
    },
    {
      "cell_type": "code",
      "source": [],
      "metadata": {
        "id": "MTVl6GscvoWg"
      },
      "execution_count": null,
      "outputs": []
    },
    {
      "cell_type": "code",
      "metadata": {
        "colab": {
          "base_uri": "https://localhost:8080/"
        },
        "id": "e1ccbe2f",
        "outputId": "078d04ad-6987-4b8a-b948-d7cc529c883a"
      },
      "source": [
        "my_set = {1, 2, 3, 4}\n",
        "my_set.remove(4)\n",
        "print(my_set)"
      ],
      "execution_count": null,
      "outputs": [
        {
          "output_type": "stream",
          "name": "stdout",
          "text": [
            "{1, 2, 3}\n"
          ]
        }
      ]
    },
    {
      "cell_type": "code",
      "source": [
        "# 19. Write a code to find the union of two sets {1, 2, 3} and {3, 4, 5}.\n"
      ],
      "metadata": {
        "id": "MlafA1qBv4Nh"
      },
      "execution_count": null,
      "outputs": []
    },
    {
      "cell_type": "code",
      "metadata": {
        "colab": {
          "base_uri": "https://localhost:8080/"
        },
        "id": "a8afa15e",
        "outputId": "ee3098bc-c183-4af3-c011-3fcedba1324e"
      },
      "source": [
        "set1 = {1, 2, 3}\n",
        "set2 = {3, 4, 5}\n",
        "union_set = set1.union(set2)\n",
        "print(f\"The union of the two sets is: {union_set}\")\n",
        "\n",
        "# Alternatively, using the | operator:\n",
        "# union_set_operator = set1 | set2\n",
        "# print(f\"The union using the | operator is: {union_set_operator}\")"
      ],
      "execution_count": null,
      "outputs": [
        {
          "output_type": "stream",
          "name": "stdout",
          "text": [
            "The union of the two sets is: {1, 2, 3, 4, 5}\n"
          ]
        }
      ]
    },
    {
      "cell_type": "code",
      "source": [
        "# 20. Write a code to find the intersection of two sets {1, 2, 3} and {2, 3, 4}."
      ],
      "metadata": {
        "id": "OLvw9F3bwGVH"
      },
      "execution_count": null,
      "outputs": []
    },
    {
      "cell_type": "code",
      "metadata": {
        "colab": {
          "base_uri": "https://localhost:8080/"
        },
        "id": "970dc207",
        "outputId": "24e9a51a-67c3-4f79-c08d-65d8b4a17e04"
      },
      "source": [
        "set1 = {1, 2, 3}\n",
        "set2 = {2, 3, 4}\n",
        "intersection_set = set1.intersection(set2)\n",
        "print(f\"The intersection of the two sets is: {intersection_set}\")\n",
        "\n",
        "# Alternatively, using the & operator:\n",
        "# intersection_set_operator = set1 & set2\n",
        "# print(f\"The intersection using the & operator is: {intersection_set_operator}\")"
      ],
      "execution_count": null,
      "outputs": [
        {
          "output_type": "stream",
          "name": "stdout",
          "text": [
            "The intersection of the two sets is: {2, 3}\n"
          ]
        }
      ]
    },
    {
      "cell_type": "code",
      "source": [
        "# 21. Write a code to create a dictionary with the keys \"name\", \"age\", and \"city\", and print it."
      ],
      "metadata": {
        "id": "69AsnWydwPsa"
      },
      "execution_count": null,
      "outputs": []
    },
    {
      "cell_type": "code",
      "metadata": {
        "colab": {
          "base_uri": "https://localhost:8080/"
        },
        "id": "30b96506",
        "outputId": "acf416fc-6043-44c5-d76e-1810550a3de7"
      },
      "source": [
        "my_dict = {\n",
        "    \"name\": \"Your Name\",  # Replace with your name\n",
        "    \"age\": None,         # Replace with your age\n",
        "    \"city\": \"Your City\"  # Replace with your city\n",
        "}\n",
        "print(my_dict)"
      ],
      "execution_count": null,
      "outputs": [
        {
          "output_type": "stream",
          "name": "stdout",
          "text": [
            "{'name': 'Your Name', 'age': None, 'city': 'Your City'}\n"
          ]
        }
      ]
    },
    {
      "cell_type": "code",
      "source": [
        "# 22. Write a code to add a new key-value pair \"country\": \"USA\" to the dictionary {'name': 'John', 'age': 25}."
      ],
      "metadata": {
        "id": "w_cbR0SowWR4"
      },
      "execution_count": null,
      "outputs": []
    },
    {
      "cell_type": "code",
      "metadata": {
        "colab": {
          "base_uri": "https://localhost:8080/"
        },
        "id": "a51b14e3",
        "outputId": "6b225a01-1e2f-465b-9338-431dd7f03239"
      },
      "source": [
        "my_dict = {'name': 'John', 'age': 25}\n",
        "my_dict[\"country\"] = \"USA\"\n",
        "print(my_dict)"
      ],
      "execution_count": null,
      "outputs": [
        {
          "output_type": "stream",
          "name": "stdout",
          "text": [
            "{'name': 'John', 'age': 25, 'country': 'USA'}\n"
          ]
        }
      ]
    },
    {
      "cell_type": "code",
      "source": [
        "# 23. Write a code to access the value associated with the key \"name\" in the dictionary {'name': 'Alice', 'age': 30}."
      ],
      "metadata": {
        "id": "DFXYVQOqwdmJ"
      },
      "execution_count": null,
      "outputs": []
    },
    {
      "cell_type": "code",
      "metadata": {
        "colab": {
          "base_uri": "https://localhost:8080/"
        },
        "id": "ca712d03",
        "outputId": "c8214ced-312d-46a9-da5e-2877ef851b2c"
      },
      "source": [
        "my_dict = {'name': 'Alice', 'age': 30}\n",
        "name_value = my_dict[\"name\"]\n",
        "print(f\"The value associated with the key 'name' is: {name_value}\")"
      ],
      "execution_count": null,
      "outputs": [
        {
          "output_type": "stream",
          "name": "stdout",
          "text": [
            "The value associated with the key 'name' is: Alice\n"
          ]
        }
      ]
    },
    {
      "cell_type": "code",
      "source": [
        "# 24. Write a code to remove the key \"age\" from the dictionary {'name': 'Bob', 'age': 22, 'city': 'New York'}."
      ],
      "metadata": {
        "id": "-x8Wi8Sgwjs_"
      },
      "execution_count": null,
      "outputs": []
    },
    {
      "cell_type": "code",
      "metadata": {
        "colab": {
          "base_uri": "https://localhost:8080/"
        },
        "id": "3b4efbdd",
        "outputId": "7f51eeae-3165-4a26-f8f5-d10c37b0acc7"
      },
      "source": [
        "my_dict = {'name': 'Bob', 'age': 22, 'city': 'New York'}\n",
        "del my_dict[\"age\"]\n",
        "print(my_dict)"
      ],
      "execution_count": null,
      "outputs": [
        {
          "output_type": "stream",
          "name": "stdout",
          "text": [
            "{'name': 'Bob', 'city': 'New York'}\n"
          ]
        }
      ]
    },
    {
      "cell_type": "code",
      "source": [
        "# 25. Write a code to check if the key \"city\" exists in the dictionary {'name': 'Alice', 'city': 'Paris'}.\n"
      ],
      "metadata": {
        "id": "LHzkn-Zvwp5d"
      },
      "execution_count": null,
      "outputs": []
    },
    {
      "cell_type": "code",
      "metadata": {
        "colab": {
          "base_uri": "https://localhost:8080/"
        },
        "id": "cbc4fc7f",
        "outputId": "957def2d-8629-4e78-ed90-ef3242a06970"
      },
      "source": [
        "my_dict = {'name': 'Alice', 'city': 'Paris'}\n",
        "if \"city\" in my_dict:\n",
        "    print(\"The key 'city' exists in the dictionary.\")\n",
        "else:\n",
        "    print(\"The key 'city' does not exist in the dictionary.\")"
      ],
      "execution_count": null,
      "outputs": [
        {
          "output_type": "stream",
          "name": "stdout",
          "text": [
            "The key 'city' exists in the dictionary.\n"
          ]
        }
      ]
    },
    {
      "cell_type": "code",
      "source": [
        "# 26. Write a code to create a list, a tuple, and a dictionary, and print them all."
      ],
      "metadata": {
        "id": "5r_sr7s1w2wB"
      },
      "execution_count": null,
      "outputs": []
    },
    {
      "cell_type": "code",
      "source": [],
      "metadata": {
        "id": "Kj1xmD6Lw2d5"
      },
      "execution_count": null,
      "outputs": []
    },
    {
      "cell_type": "code",
      "metadata": {
        "colab": {
          "base_uri": "https://localhost:8080/"
        },
        "id": "fab26d34",
        "outputId": "7121ba66-fdb6-442d-9bee-5311280709d0"
      },
      "source": [
        "# Create a list\n",
        "my_list = [1, 2, 3, 4, 5]\n",
        "\n",
        "# Create a tuple\n",
        "my_tuple = ('a', 'b', 'c')\n",
        "\n",
        "# Create a dictionary\n",
        "my_dict = {\"name\": \"Alice\", \"age\": 30}\n",
        "\n",
        "# Print all of them\n",
        "print(\"My List:\", my_list)\n",
        "print(\"My Tuple:\", my_tuple)\n",
        "print(\"My Dictionary:\", my_dict)"
      ],
      "execution_count": null,
      "outputs": [
        {
          "output_type": "stream",
          "name": "stdout",
          "text": [
            "My List: [1, 2, 3, 4, 5]\n",
            "My Tuple: ('a', 'b', 'c')\n",
            "My Dictionary: {'name': 'Alice', 'age': 30}\n"
          ]
        }
      ]
    },
    {
      "cell_type": "code",
      "source": [
        "# 27. Write a code to create a list of 5 random numbers between 1 and 100, sort it in ascending order, and print the result.(replaced)"
      ],
      "metadata": {
        "id": "B8K-RR4CxAHE"
      },
      "execution_count": null,
      "outputs": []
    },
    {
      "cell_type": "code",
      "metadata": {
        "colab": {
          "base_uri": "https://localhost:8080/"
        },
        "id": "9757a56d",
        "outputId": "9218916e-7c3d-4e74-b4d0-968114a2c428"
      },
      "source": [
        "import random\n",
        "\n",
        "# Create a list of 5 random numbers between 1 and 100\n",
        "random_numbers = [random.randint(1, 100) for _ in range(5)]\n",
        "\n",
        "# Sort the list in ascending order\n",
        "random_numbers.sort()\n",
        "\n",
        "# Print the sorted list\n",
        "print(\"Sorted list of random numbers:\", random_numbers)"
      ],
      "execution_count": null,
      "outputs": [
        {
          "output_type": "stream",
          "name": "stdout",
          "text": [
            "Sorted list of random numbers: [25, 26, 33, 41, 100]\n"
          ]
        }
      ]
    },
    {
      "cell_type": "code",
      "source": [
        "# 28. Write a code to create a list with strings and print the element at the third index."
      ],
      "metadata": {
        "id": "eguN80LNxUR0"
      },
      "execution_count": null,
      "outputs": []
    },
    {
      "cell_type": "code",
      "metadata": {
        "colab": {
          "base_uri": "https://localhost:8080/"
        },
        "id": "8d60072c",
        "outputId": "e7cd5922-8785-4a30-a385-c49eabb708f2"
      },
      "source": [
        "my_string_list = [\"apple\", \"banana\", \"cherry\", \"date\", \"elderberry\"]\n",
        "third_element = my_string_list[2]\n",
        "print(f\"The list is: {my_string_list}\")\n",
        "print(f\"The element at the third index (index 2) is: {third_element}\")"
      ],
      "execution_count": null,
      "outputs": [
        {
          "output_type": "stream",
          "name": "stdout",
          "text": [
            "The list is: ['apple', 'banana', 'cherry', 'date', 'elderberry']\n",
            "The element at the third index (index 2) is: cherry\n"
          ]
        }
      ]
    },
    {
      "cell_type": "code",
      "source": [
        "# 29. Write a code to combine two dictionaries into one and print the result."
      ],
      "metadata": {
        "id": "zCFJuJ0Axb3D"
      },
      "execution_count": null,
      "outputs": []
    },
    {
      "cell_type": "code",
      "metadata": {
        "colab": {
          "base_uri": "https://localhost:8080/"
        },
        "id": "eed82534",
        "outputId": "9ca73042-cce8-4324-a19c-c4c5a0c056ec"
      },
      "source": [
        "dict1 = {\"a\": 1, \"b\": 2}\n",
        "dict2 = {\"c\": 3, \"d\": 4}\n",
        "\n",
        "# Using the update() method\n",
        "combined_dict = dict1.copy()  # Create a copy to avoid modifying the original dict1\n",
        "combined_dict.update(dict2)\n",
        "print(\"Combined dictionary (using update()):\", combined_dict)\n",
        "\n",
        "# Alternatively, using the ** operator (Python 3.5+):\n",
        "# combined_dict_operator = {**dict1, **dict2}\n",
        "# print(\"Combined dictionary (using ** operator):\", combined_dict_operator)"
      ],
      "execution_count": null,
      "outputs": [
        {
          "output_type": "stream",
          "name": "stdout",
          "text": [
            "Combined dictionary (using update()): {'a': 1, 'b': 2, 'c': 3, 'd': 4}\n"
          ]
        }
      ]
    },
    {
      "cell_type": "code",
      "source": [
        "# 30. Write a code to convert a list of strings into a set."
      ],
      "metadata": {
        "id": "U7HNAcYFxjZD"
      },
      "execution_count": null,
      "outputs": []
    },
    {
      "cell_type": "code",
      "metadata": {
        "colab": {
          "base_uri": "https://localhost:8080/"
        },
        "id": "75fdb172",
        "outputId": "f9160e11-1a83-407c-a598-8521e7d76896"
      },
      "source": [
        "string_list = [\"apple\", \"banana\", \"cherry\", \"apple\", \"date\"]\n",
        "string_set = set(string_list)\n",
        "print(f\"Original list: {string_list}\")\n",
        "print(f\"Converted set: {string_set}\")"
      ],
      "execution_count": null,
      "outputs": [
        {
          "output_type": "stream",
          "name": "stdout",
          "text": [
            "Original list: ['apple', 'banana', 'cherry', 'apple', 'date']\n",
            "Converted set: {'cherry', 'banana', 'apple', 'date'}\n"
          ]
        }
      ]
    }
  ]
}